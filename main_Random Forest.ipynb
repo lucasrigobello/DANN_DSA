{
 "cells": [
  {
   "cell_type": "code",
   "execution_count": 1,
   "id": "f0c2fe2d",
   "metadata": {},
   "outputs": [],
   "source": [
    "import os\n",
    "import numpy as np\n",
    "import tensorflow as tf\n",
    "from tensorflow import keras\n",
    "import matplotlib.pyplot as plt\n",
    "import pandas as pd\n",
    "\n",
    "from scipy.io import loadmat\n",
    "\n",
    "import seaborn as sns\n",
    "\n",
    "from sklearn.ensemble import RandomForestClassifier\n",
    "\n",
    "import scipy.stats as stats\n",
    "from sklearn.metrics import confusion_matrix, ConfusionMatrixDisplay\n",
    "from sklearn.model_selection import train_test_split\n",
    "import plotly.express as px"
   ]
  },
  {
   "cell_type": "code",
   "execution_count": 2,
   "id": "3da0b27f",
   "metadata": {},
   "outputs": [],
   "source": [
    "# domain adaptation task\n",
    "# Task 0 −→ 1 means working load 0 is the source domain with labeled training samples, and\n",
    "# working load 1 is the target domain we want to improve model performance on.\n",
    "src = 3\n",
    "tgt = 2"
   ]
  },
  {
   "cell_type": "code",
   "execution_count": 3,
   "id": "78378387",
   "metadata": {},
   "outputs": [],
   "source": [
    "orrd = pd.DataFrame([\n",
    "        ['100', 3, 0],\n",
    "        ['108', 3, 1],\n",
    "        ['172', 3, 2],\n",
    "        ['212', 3, 3],\n",
    "        ['133', 3, 4],\n",
    "        ['200', 3, 5],\n",
    "        ['237', 3, 6],\n",
    "        ['121', 3, 7],\n",
    "        ['188', 3, 8],\n",
    "        ['225', 3, 9],\n",
    "                                  \n",
    "        ['099', 2, 0],\n",
    "        ['107', 2, 1],\n",
    "        ['171', 2, 2],\n",
    "        ['211', 2, 3],\n",
    "        ['132', 2, 4],\n",
    "        ['199', 2, 5],\n",
    "        ['236', 2, 6],\n",
    "        ['120', 2, 7],\n",
    "        ['187', 2, 8],\n",
    "        ['224', 2, 9],\n",
    "        \n",
    "        ['098', 1, 0],\n",
    "        ['106', 1, 1],\n",
    "        ['170', 1, 2],\n",
    "        ['210', 1, 3],\n",
    "        ['131', 1, 4],\n",
    "        ['198', 1, 5],\n",
    "        ['235', 1, 6],\n",
    "        ['119', 1, 7],\n",
    "        ['186', 1, 8],\n",
    "        ['223', 1, 9],\n",
    "        \n",
    "        ['097', 0, 0],\n",
    "        ['105', 0, 1],\n",
    "        ['169', 0, 2],\n",
    "        ['209', 0, 3],\n",
    "        ['130', 0, 4],\n",
    "        ['197', 0, 5],\n",
    "        ['234', 0, 6],\n",
    "        ['118', 0, 7],\n",
    "        ['185', 0, 8],\n",
    "        ['222', 0, 9]], columns = ['name','load','label'])"
   ]
  },
  {
   "cell_type": "code",
   "execution_count": 4,
   "id": "d200e0cf",
   "metadata": {},
   "outputs": [],
   "source": [
    "# returns data and labels\n",
    "def cwru_data(load, percentage, truncate=120000, length=1024, sample=200, shuffle=False):\n",
    "    out = []\n",
    "    data_out = []\n",
    "    lbls = []\n",
    "\n",
    "    for ii in orrd[orrd['load']==load]['name'].index:\n",
    "    # loading the .mat - lbl can be [0,1,2,3,4,5,6,7,8,9] when percentage=\"all\" \n",
    "    # or [0,1] when percentage=\"20%\"\n",
    "        \n",
    "        lbl = orrd.iloc[ii]['label']\n",
    "        file_number = orrd.iloc[ii]['name']\n",
    "#         print(file_number)\n",
    "        file_dirs = 'C:/Users/lucas/Documents/Doutorado/WorkSpace/DADOS CWRU/01_Raw/' + file_number + '.mat'\n",
    "        data = loadmat(file_dirs)\n",
    "        for i in data:\n",
    "            # taking only the DE list of values\n",
    "            if \"X{}_DE_time\".format(file_number) == i:\n",
    "#                 print(\"OK!\")\n",
    "#                 print(i)\n",
    "#                 for j in range(0, len(data) - length + 1 , (len(data) - length)//(sample - 1) ):\n",
    "#                     print(j)\n",
    "                if file_number in ['097', '098', '099', '100']:\n",
    "                    print('filtro', file_number)\n",
    "                    data[i] = data[i][1::4]\n",
    "                data = data[i][:truncate] # truncating the length of data\n",
    "                data = [data[j:j + length] for j in range(0, len(data) - length + 1 , (len(data) - length)//(sample - 1) )] # sampling\n",
    "                #data = np.lib.stride_tricks.sliding_window_view(data.reshape(truncate),1024)[::1024, :]\n",
    "                    \n",
    "                # carrying out fft\n",
    "                for k in range(0,len(data)):\n",
    "                    data_out.append(data[k])\n",
    "                    fft = abs(np.fft.fft(data[k])[:len(data[k])//2])\n",
    "                    out.append(fft)\n",
    "                    lbls.append([lbl])\n",
    "            else:\n",
    "                pass\n",
    "\n",
    "    # one hot encoding\n",
    "    #lbls = to_categorical(np.array(lbls))\n",
    "\n",
    "    return data_out, np.array(out), np.array(lbls)"
   ]
  },
  {
   "cell_type": "code",
   "execution_count": 5,
   "id": "b8c66548",
   "metadata": {},
   "outputs": [
    {
     "name": "stdout",
     "output_type": "stream",
     "text": [
      "filtro 100\n",
      "filtro 099\n",
      "Source dimension (2000, 1024) (2000,)\n",
      "Target dimension (2000, 1024) (2000,)\n"
     ]
    }
   ],
   "source": [
    "# preparing data for stage 1\n",
    "data, data_fft, labels = cwru_data(load=src, percentage=\"full\", shuffle=True)\n",
    "data_tgt, data_fft_tgt, labels_tgt = cwru_data(load=tgt, percentage=\"full\", shuffle=True)\n",
    "\n",
    "data_src = np.array(data).reshape(2000,1024)\n",
    "data_src = data_src\n",
    "label_src = np.array(labels).reshape(2000)\n",
    "\n",
    "data_tgt = np.array(data_tgt).reshape(2000,1024)\n",
    "data_tgt = data_tgt\n",
    "label_tgt = np.array(labels_tgt).reshape(2000)\n",
    "\n",
    "print(\"Source dimension\", data_src.shape, label_src.shape)\n",
    "print(\"Target dimension\", data_tgt.shape, label_tgt.shape)"
   ]
  },
  {
   "cell_type": "code",
   "execution_count": 6,
   "id": "a4e79a6a",
   "metadata": {},
   "outputs": [
    {
     "name": "stdout",
     "output_type": "stream",
     "text": [
      "Source dimension (2000, 512) (2000,)\n",
      "Target dimension (2000, 512) (2000,)\n"
     ]
    }
   ],
   "source": [
    "fft = lambda sig: abs(np.fft.fft(sig)[0:len(sig)//2])/len(sig)\n",
    "#fft = lambda sig: abs(np.fft.fft(sig)[0:len(sig)//2])\n",
    "\n",
    "data_src_fft = np.array([fft(sig) for sig in data_src])\n",
    "data_src_fft[1:] = data_src_fft[1:]*2\n",
    "\n",
    "data_tgt_fft = np.array([fft(sig) for sig in data_tgt])\n",
    "data_tgt_fft[1:] = data_tgt_fft[1:]*2\n",
    "\n",
    "print(\"Source dimension\", data_src_fft.shape, label_src.shape)\n",
    "print(\"Target dimension\", data_tgt_fft.shape, label_tgt.shape)"
   ]
  },
  {
   "cell_type": "code",
   "execution_count": null,
   "id": "e6252cf4",
   "metadata": {},
   "outputs": [],
   "source": [
    "### Expand the last dimension for ease of feeding conv1d\n",
    "# data_src = np.expand_dims(data_src, axis=-1)\n",
    "# data_src_fft = np.expand_dims(data_src_fft, axis=-1)\n",
    "# data_tgt = np.expand_dims(data_tgt, axis=-1)\n",
    "# data_tgt_fft = np.expand_dims(data_tgt_fft, axis=-1)\n",
    "# print(\"Source dimension\", data_src_fft.shape, data_src.shape)\n",
    "# print(\"Target dimension\", data_tgt_fft.shape, data_tgt.shape)"
   ]
  },
  {
   "cell_type": "markdown",
   "id": "fa836b1c",
   "metadata": {},
   "source": [
    "# Random Forest "
   ]
  },
  {
   "cell_type": "code",
   "execution_count": 7,
   "id": "14dbe0b3",
   "metadata": {},
   "outputs": [
    {
     "name": "stdout",
     "output_type": "stream",
     "text": [
      "(1340, 512) (660, 512) (1340,) (660,)\n",
      "(1340, 512) (660, 512) (1340,) (660,)\n"
     ]
    }
   ],
   "source": [
    "# train test Split\n",
    "(data_src_fft_train, data_src_fft_test, \n",
    "label_src_train, label_src_test) = train_test_split(data_src_fft, label_src, test_size=0.33, random_state=42)\n",
    "print(data_src_fft_train.shape,\n",
    "        data_src_fft_test.shape,\n",
    "        label_src_train.shape,\n",
    "        label_src_test.shape)\n",
    "\n",
    "(data_tgt_fft_train, data_tgt_fft_test, \n",
    "label_tgt_train, label_tgt_test) = train_test_split(data_tgt_fft, label_tgt, test_size=0.33, random_state=42)\n",
    "print(data_tgt_fft_train.shape,\n",
    "        data_tgt_fft_test.shape,\n",
    "        label_tgt_train.shape,\n",
    "        label_tgt_test.shape)"
   ]
  },
  {
   "cell_type": "code",
   "execution_count": 30,
   "id": "fc186848",
   "metadata": {},
   "outputs": [
    {
     "data": {
      "text/plain": [
       "RandomForestClassifier(max_depth=5, random_state=0)"
      ]
     },
     "execution_count": 30,
     "metadata": {},
     "output_type": "execute_result"
    }
   ],
   "source": [
    "clf = RandomForestClassifier(max_depth=5, random_state=0)\n",
    "clf.fit(data_src_fft_train, label_src_train)"
   ]
  },
  {
   "cell_type": "code",
   "execution_count": 43,
   "id": "ac5857ae",
   "metadata": {},
   "outputs": [
    {
     "data": {
      "text/plain": [
       "'criterion'"
      ]
     },
     "execution_count": 43,
     "metadata": {},
     "output_type": "execute_result"
    }
   ],
   "source": [
    "clf.estimator_params[0]"
   ]
  },
  {
   "cell_type": "code",
   "execution_count": 31,
   "id": "9ff4571d",
   "metadata": {},
   "outputs": [
    {
     "data": {
      "text/plain": [
       "1.0"
      ]
     },
     "execution_count": 31,
     "metadata": {},
     "output_type": "execute_result"
    }
   ],
   "source": [
    "clf.score(data_src_fft_train, label_src_train)"
   ]
  },
  {
   "cell_type": "code",
   "execution_count": 32,
   "id": "da3f0c8e",
   "metadata": {},
   "outputs": [
    {
     "data": {
      "text/plain": [
       "1.0"
      ]
     },
     "execution_count": 32,
     "metadata": {},
     "output_type": "execute_result"
    }
   ],
   "source": [
    "clf.score(data_src_fft_test, label_src_test)"
   ]
  },
  {
   "cell_type": "code",
   "execution_count": 33,
   "id": "938ebe59",
   "metadata": {},
   "outputs": [
    {
     "data": {
      "text/plain": [
       "0.7121212121212122"
      ]
     },
     "execution_count": 33,
     "metadata": {},
     "output_type": "execute_result"
    }
   ],
   "source": [
    "clf.score(data_tgt_fft_test, label_tgt_test)"
   ]
  },
  {
   "cell_type": "code",
   "execution_count": 8,
   "id": "6e7dc79f",
   "metadata": {},
   "outputs": [],
   "source": [
    "from sklearn.metrics import accuracy_score, confusion_matrix, precision_score, recall_score, ConfusionMatrixDisplay"
   ]
  },
  {
   "cell_type": "code",
   "execution_count": null,
   "id": "2fb49808",
   "metadata": {},
   "outputs": [],
   "source": [
    "y_pred = clf.predict(data_tgt_fft_test)\n",
    "y_test = label_tgt_test\n",
    "\n",
    "accuracy = accuracy_score(y_test, y_pred)\n",
    "precision = precision_score(y_test, y_pred, average='macro')\n",
    "recall = recall_score(y_test, y_pred, average='macro')\n",
    "\n",
    "print(\"Accuracy:\", accuracy)\n",
    "print(\"Precision:\", precision)\n",
    "print(\"Recall:\", recall)"
   ]
  },
  {
   "cell_type": "code",
   "execution_count": null,
   "id": "f35df2b3",
   "metadata": {},
   "outputs": [],
   "source": [
    "clf.estimators_[0]"
   ]
  },
  {
   "cell_type": "code",
   "execution_count": 9,
   "id": "fb48c89a",
   "metadata": {},
   "outputs": [],
   "source": [
    "# Number of trees in random forest\n",
    "n_estimators = np.linspace(100, 3000, int((3000-100)/200) + 1, dtype=int)\n",
    "\n",
    "# Maximum number of levels in tree\n",
    "max_depth = [1, 5, 10, 20, 50, 75, 100, 150, 200]\n",
    "\n",
    "# Minimum number of samples required to split a node\n",
    "# min_samples_split = [int(x) for x in np.linspace(start = 2, stop = 10, num = 9)]\n",
    "min_samples_split = [1, 2, 5, 10, 15, 20, 30]\n",
    "\n",
    "# Minimum number of samples required at each leaf node\n",
    "min_samples_leaf = [1, 2, 3, 4]\n",
    "\n",
    "# Method of selecting samples for training each tree\n",
    "bootstrap = [True, False]\n",
    "\n",
    "# Criterion\n",
    "criterion=['gini', 'entropy']\n",
    "random_grid = {'n_estimators': n_estimators,\n",
    "               'max_depth': max_depth,\n",
    "               'min_samples_split': min_samples_split,\n",
    "               'min_samples_leaf': min_samples_leaf,\n",
    "               'bootstrap': bootstrap,\n",
    "               'criterion': criterion}"
   ]
  },
  {
   "cell_type": "code",
   "execution_count": 10,
   "id": "03d017e8",
   "metadata": {},
   "outputs": [],
   "source": [
    "from sklearn.model_selection import RandomizedSearchCV"
   ]
  },
  {
   "cell_type": "code",
   "execution_count": 11,
   "id": "3ee11564",
   "metadata": {
    "scrolled": true
   },
   "outputs": [
    {
     "name": "stdout",
     "output_type": "stream",
     "text": [
      "Fitting 5 folds for each of 30 candidates, totalling 150 fits\n"
     ]
    },
    {
     "name": "stderr",
     "output_type": "stream",
     "text": [
      "C:\\Users\\lucas\\anaconda3\\lib\\site-packages\\sklearn\\model_selection\\_validation.py:372: FitFailedWarning: \n",
      "15 fits failed out of a total of 150.\n",
      "The score on these train-test partitions for these parameters will be set to nan.\n",
      "If these failures are not expected, you can try to debug them by setting error_score='raise'.\n",
      "\n",
      "Below are more details about the failures:\n",
      "--------------------------------------------------------------------------------\n",
      "15 fits failed with the following error:\n",
      "Traceback (most recent call last):\n",
      "  File \"C:\\Users\\lucas\\anaconda3\\lib\\site-packages\\sklearn\\model_selection\\_validation.py\", line 680, in _fit_and_score\n",
      "    estimator.fit(X_train, y_train, **fit_params)\n",
      "  File \"C:\\Users\\lucas\\anaconda3\\lib\\site-packages\\sklearn\\ensemble\\_forest.py\", line 450, in fit\n",
      "    trees = Parallel(\n",
      "  File \"C:\\Users\\lucas\\anaconda3\\lib\\site-packages\\joblib\\parallel.py\", line 1043, in __call__\n",
      "    if self.dispatch_one_batch(iterator):\n",
      "  File \"C:\\Users\\lucas\\anaconda3\\lib\\site-packages\\joblib\\parallel.py\", line 861, in dispatch_one_batch\n",
      "    self._dispatch(tasks)\n",
      "  File \"C:\\Users\\lucas\\anaconda3\\lib\\site-packages\\joblib\\parallel.py\", line 779, in _dispatch\n",
      "    job = self._backend.apply_async(batch, callback=cb)\n",
      "  File \"C:\\Users\\lucas\\anaconda3\\lib\\site-packages\\joblib\\_parallel_backends.py\", line 208, in apply_async\n",
      "    result = ImmediateResult(func)\n",
      "  File \"C:\\Users\\lucas\\anaconda3\\lib\\site-packages\\joblib\\_parallel_backends.py\", line 572, in __init__\n",
      "    self.results = batch()\n",
      "  File \"C:\\Users\\lucas\\anaconda3\\lib\\site-packages\\joblib\\parallel.py\", line 262, in __call__\n",
      "    return [func(*args, **kwargs)\n",
      "  File \"C:\\Users\\lucas\\anaconda3\\lib\\site-packages\\joblib\\parallel.py\", line 262, in <listcomp>\n",
      "    return [func(*args, **kwargs)\n",
      "  File \"C:\\Users\\lucas\\anaconda3\\lib\\site-packages\\sklearn\\utils\\fixes.py\", line 216, in __call__\n",
      "    return self.function(*args, **kwargs)\n",
      "  File \"C:\\Users\\lucas\\anaconda3\\lib\\site-packages\\sklearn\\ensemble\\_forest.py\", line 185, in _parallel_build_trees\n",
      "    tree.fit(X, y, sample_weight=curr_sample_weight, check_input=False)\n",
      "  File \"C:\\Users\\lucas\\anaconda3\\lib\\site-packages\\sklearn\\tree\\_classes.py\", line 937, in fit\n",
      "    super().fit(\n",
      "  File \"C:\\Users\\lucas\\anaconda3\\lib\\site-packages\\sklearn\\tree\\_classes.py\", line 250, in fit\n",
      "    raise ValueError(\n",
      "ValueError: min_samples_split must be an integer greater than 1 or a float in (0.0, 1.0]; got the integer 1\n",
      "\n",
      "  warnings.warn(some_fits_failed_message, FitFailedWarning)\n",
      "C:\\Users\\lucas\\anaconda3\\lib\\site-packages\\sklearn\\model_selection\\_search.py:969: UserWarning: One or more of the test scores are non-finite: [1.         1.         1.         1.         1.         1.\n",
      " 1.         1.         1.         1.         1.         1.\n",
      "        nan 1.         0.89328358 0.90149254 1.         1.\n",
      "        nan 1.         1.         1.         1.         1.\n",
      " 1.                nan 1.         1.         1.         1.        ]\n",
      "  warnings.warn(\n"
     ]
    },
    {
     "data": {
      "text/plain": [
       "RandomizedSearchCV(cv=5, estimator=RandomForestClassifier(), n_iter=30,\n",
       "                   n_jobs=4,\n",
       "                   param_distributions={'bootstrap': [True, False],\n",
       "                                        'criterion': ['gini', 'entropy'],\n",
       "                                        'max_depth': [1, 5, 10, 20, 50, 75, 100,\n",
       "                                                      150, 200],\n",
       "                                        'min_samples_leaf': [1, 2, 3, 4],\n",
       "                                        'min_samples_split': [1, 2, 5, 10, 15,\n",
       "                                                              20, 30],\n",
       "                                        'n_estimators': array([ 100,  307,  514,  721,  928, 1135, 1342, 1550, 1757, 1964, 2171,\n",
       "       2378, 2585, 2792, 3000])},\n",
       "                   random_state=42, verbose=2)"
      ]
     },
     "execution_count": 11,
     "metadata": {},
     "output_type": "execute_result"
    }
   ],
   "source": [
    "rf_base = RandomForestClassifier()\n",
    "rf_random = RandomizedSearchCV(estimator = rf_base,\n",
    "                               param_distributions = random_grid,\n",
    "                               n_iter = 30, cv = 5,\n",
    "                               verbose=2,\n",
    "                               random_state=42, n_jobs = 4)\n",
    "rf_random.fit(data_src_fft_train, label_src_train)"
   ]
  },
  {
   "cell_type": "code",
   "execution_count": 12,
   "id": "2c8dc023",
   "metadata": {},
   "outputs": [
    {
     "data": {
      "text/plain": [
       "{'n_estimators': 2171,\n",
       " 'min_samples_split': 2,\n",
       " 'min_samples_leaf': 2,\n",
       " 'max_depth': 200,\n",
       " 'criterion': 'entropy',\n",
       " 'bootstrap': True}"
      ]
     },
     "execution_count": 12,
     "metadata": {},
     "output_type": "execute_result"
    }
   ],
   "source": [
    "rf_random.best_params_"
   ]
  },
  {
   "cell_type": "code",
   "execution_count": 13,
   "id": "467131d7",
   "metadata": {},
   "outputs": [
    {
     "data": {
      "text/plain": [
       "1.0"
      ]
     },
     "execution_count": 13,
     "metadata": {},
     "output_type": "execute_result"
    }
   ],
   "source": [
    "rf_random.score(data_src_fft_train, label_src_train)"
   ]
  },
  {
   "cell_type": "code",
   "execution_count": 14,
   "id": "6610b486",
   "metadata": {},
   "outputs": [
    {
     "data": {
      "text/plain": [
       "1.0"
      ]
     },
     "execution_count": 14,
     "metadata": {},
     "output_type": "execute_result"
    }
   ],
   "source": [
    "rf_random.score(data_src_fft_test, label_src_test)"
   ]
  },
  {
   "cell_type": "code",
   "execution_count": 15,
   "id": "cce9050e",
   "metadata": {},
   "outputs": [
    {
     "data": {
      "text/plain": [
       "0.7803030303030303"
      ]
     },
     "execution_count": 15,
     "metadata": {},
     "output_type": "execute_result"
    }
   ],
   "source": [
    "rf_random.score(data_tgt_fft_test, label_tgt_test)"
   ]
  },
  {
   "cell_type": "code",
   "execution_count": 16,
   "id": "91202b82",
   "metadata": {},
   "outputs": [
    {
     "name": "stdout",
     "output_type": "stream",
     "text": [
      "Accuracy: 0.7803030303030303\n",
      "Precision: 0.7765651333450554\n",
      "Recall: 0.8054054054054054\n"
     ]
    },
    {
     "name": "stderr",
     "output_type": "stream",
     "text": [
      "C:\\Users\\lucas\\anaconda3\\lib\\site-packages\\sklearn\\metrics\\_classification.py:1318: UndefinedMetricWarning: Precision is ill-defined and being set to 0.0 in labels with no predicted samples. Use `zero_division` parameter to control this behavior.\n",
      "  _warn_prf(average, modifier, msg_start, len(result))\n"
     ]
    }
   ],
   "source": [
    "y_pred = rf_random.predict(data_tgt_fft_test)\n",
    "y_test = label_tgt_test\n",
    "\n",
    "accuracy = accuracy_score(y_test, y_pred)\n",
    "precision = precision_score(y_test, y_pred, average='macro')\n",
    "recall = recall_score(y_test, y_pred, average='macro')\n",
    "\n",
    "print(\"Accuracy:\", accuracy)\n",
    "print(\"Precision:\", precision)\n",
    "print(\"Recall:\", recall)"
   ]
  },
  {
   "cell_type": "code",
   "execution_count": null,
   "id": "14eff23c",
   "metadata": {},
   "outputs": [],
   "source": [
    "# Tree Visualisation\n",
    "from sklearn.tree import export_graphviz\n",
    "from IPython.display import Image\n",
    "import graphviz"
   ]
  },
  {
   "cell_type": "code",
   "execution_count": null,
   "id": "c1494337",
   "metadata": {},
   "outputs": [],
   "source": [
    "rf_random."
   ]
  },
  {
   "cell_type": "code",
   "execution_count": null,
   "id": "1c850fef",
   "metadata": {},
   "outputs": [],
   "source": [
    "for i in range(3):\n",
    "    tree = clf.estimators_[i]\n",
    "    dot_data = export_graphviz(tree,\n",
    "                               filled=True,  \n",
    "                               max_depth=2, \n",
    "                               impurity=False, \n",
    "                               proportion=True)\n",
    "    graph = graphviz.Source(dot_data)\n",
    "    display(graph)"
   ]
  },
  {
   "cell_type": "code",
   "execution_count": null,
   "id": "21fce1a4",
   "metadata": {},
   "outputs": [],
   "source": [
    "stats.ttest_ind(accs_base_tgt, accs_tgt)"
   ]
  },
  {
   "cell_type": "code",
   "execution_count": null,
   "id": "7c7bbf3f",
   "metadata": {},
   "outputs": [],
   "source": [
    "np.savetxt(\"./logs/T{}{}_test_t.csv\".format(src,tgt), np.array(stats.ttest_ind(accs_base_tgt, accs_tgt)), delimiter=\";\")"
   ]
  },
  {
   "cell_type": "code",
   "execution_count": 20,
   "id": "c2c00e99",
   "metadata": {},
   "outputs": [],
   "source": [
    "pred = rf_random.predict(data_src_fft)"
   ]
  },
  {
   "cell_type": "code",
   "execution_count": 21,
   "id": "1cfe248b",
   "metadata": {},
   "outputs": [
    {
     "data": {
      "text/plain": [
       "array([0, 0, 0, ..., 9, 9, 9], dtype=int64)"
      ]
     },
     "execution_count": 21,
     "metadata": {},
     "output_type": "execute_result"
    }
   ],
   "source": [
    "pred"
   ]
  },
  {
   "cell_type": "code",
   "execution_count": 34,
   "id": "725d041d",
   "metadata": {},
   "outputs": [
    {
     "data": {
      "image/png": "[encoded data removed]",
      "text/plain": [
       "<Figure size 640x480 with 2 Axes>"
      ]
     },
     "metadata": {},
     "output_type": "display_data"
    }
   ],
   "source": [
    "pred = clf.predict(data_src_fft)\n",
    "#pred = [np.argmax(x) for x in pred]\n",
    "\n",
    "cm = confusion_matrix(label_tgt, pred)\n",
    "disp = ConfusionMatrixDisplay(confusion_matrix=cm,\n",
    "                             display_labels=np.unique(label_tgt))\n",
    "disp.plot()\n",
    "plt.xlabel('Classe predita')\n",
    "plt.ylabel('Classe verdadeira')\n",
    "plt.tight_layout()\n",
    "plt.savefig('./imagens/T{}{}_confusion matrix source validation DANN.jpg'.format(src, tgt),\n",
    "           dpi = 600)\n",
    "plt.show()"
   ]
  },
  {
   "cell_type": "code",
   "execution_count": 35,
   "id": "fca58be3",
   "metadata": {},
   "outputs": [
    {
     "data": {
      "image/png": "[encoded data removed]",
      "text/plain": [
       "<Figure size 640x480 with 2 Axes>"
      ]
     },
     "metadata": {},
     "output_type": "display_data"
    }
   ],
   "source": [
    "pred = clf.predict(data_tgt_fft)\n",
    "#pred = [np.argmax(x) for x in pred]\n",
    "\n",
    "cm = confusion_matrix(label_tgt, pred)\n",
    "disp = ConfusionMatrixDisplay(confusion_matrix=cm,\n",
    "                             display_labels=np.unique(label_tgt))\n",
    "disp.plot()\n",
    "plt.xlabel('Classe predita')\n",
    "plt.ylabel('Classe verdadeira')\n",
    "plt.tight_layout()\n",
    "plt.savefig('./imagens/T{}{}_confusion matrix target validation DANN.jpg'.format(src, tgt),\n",
    "           dpi = 600)\n",
    "plt.show()"
   ]
  },
  {
   "cell_type": "markdown",
   "id": "09b866f5",
   "metadata": {},
   "source": [
    "# Feature Factors "
   ]
  },
  {
   "cell_type": "code",
   "execution_count": null,
   "id": "a1edffd6",
   "metadata": {},
   "outputs": [],
   "source": [
    "clf_branch.summary()"
   ]
  },
  {
   "cell_type": "code",
   "execution_count": null,
   "id": "48feaf97",
   "metadata": {},
   "outputs": [],
   "source": [
    "feature_output = Model(clf_branch.input, clf_branch.get_layer('feature').output)"
   ]
  },
  {
   "cell_type": "code",
   "execution_count": null,
   "id": "0958883c",
   "metadata": {},
   "outputs": [],
   "source": [
    "feture_pred = feature_output(data_src_fft)\n",
    "feture_pred.shape"
   ]
  },
  {
   "cell_type": "code",
   "execution_count": null,
   "id": "a43bf5d5",
   "metadata": {},
   "outputs": [],
   "source": [
    "feture_pred_tgt = feature_output(data_tgt_fft)\n",
    "feture_pred_tgt"
   ]
  },
  {
   "cell_type": "markdown",
   "id": "0c3e22d2",
   "metadata": {},
   "source": [
    "# PCA"
   ]
  },
  {
   "cell_type": "code",
   "execution_count": null,
   "id": "46f5fc79",
   "metadata": {},
   "outputs": [],
   "source": [
    "pca = PCA(n_components=7)\n",
    "pca_model = pca.fit(np.array(feture_pred))\n",
    "Xfactor_train_source = pca_model.transform(np.array(feture_pred))\n",
    "Xfactor_train_target = pca_model.transform(np.array(feture_pred_tgt))"
   ]
  },
  {
   "cell_type": "code",
   "execution_count": null,
   "id": "cabf2ca9",
   "metadata": {},
   "outputs": [],
   "source": [
    "Xfactor_source = pd.DataFrame(Xfactor_train_source).reset_index(drop=True)\n",
    "Xfactor_target = pd.DataFrame(Xfactor_train_target).reset_index(drop=True)\n",
    "y_train_source = pd.DataFrame(label_src).reset_index(drop=True)\n",
    "y_train_source['Condition']='Source'\n",
    "Xfactor_source[['Label', 'Condition']]= y_train_source\n",
    "y_train_target = pd.DataFrame(label_tgt).reset_index(drop=True)\n",
    "y_train_target['Condition']='Target'\n",
    "Xfactor_target[['Label', 'Condition']]= y_train_target"
   ]
  },
  {
   "cell_type": "code",
   "execution_count": null,
   "id": "e7f55966",
   "metadata": {},
   "outputs": [],
   "source": [
    "Xfactor_train_global = pd.concat([Xfactor_source, Xfactor_target])\n",
    "Xfactor_train_global.reset_index(inplace=True, drop=True)\n",
    "Xfactor_train_global"
   ]
  },
  {
   "cell_type": "code",
   "execution_count": null,
   "id": "17b18787",
   "metadata": {},
   "outputs": [],
   "source": [
    "print(\n",
    "    \"explained variance ratio (first two components): %s\"\n",
    "    % str(pca_model.explained_variance_ratio_)\n",
    ")"
   ]
  },
  {
   "cell_type": "code",
   "execution_count": null,
   "id": "486c22fc",
   "metadata": {},
   "outputs": [],
   "source": [
    "plt.figure(figsize=(8, 4))\n",
    "plt.subplot(1,2,1)\n",
    "ax = sns.scatterplot(data=Xfactor_train_global[Xfactor_train_global['Condition']=='Source'],\n",
    "                x = 0, y = 1, hue = 'Label', \n",
    "                palette = \"tab10\")\n",
    "ax.legend(loc = 'upper right',\n",
    "         bbox_to_anchor=(1.25, 1.02))\n",
    "plt.xlabel('comp-1')\n",
    "plt.ylabel('comp-2')\n",
    "plt.tight_layout()\n",
    "plt.savefig('./imagens/T{}{}_PCA_source_feature.jpg'.format(src, tgt),\n",
    "           dpi = 600)"
   ]
  },
  {
   "cell_type": "code",
   "execution_count": null,
   "id": "cacc0f84",
   "metadata": {},
   "outputs": [],
   "source": [
    "plt.figure(figsize=(8, 4))\n",
    "plt.subplot(1,2,1)\n",
    "ax = sns.scatterplot(data=Xfactor_train_global[Xfactor_train_global['Condition']=='Target'],\n",
    "                x = 0, y = 1, hue = 'Label', \n",
    "                palette = \"tab10\")\n",
    "ax.legend(loc = 'upper right',\n",
    "         bbox_to_anchor=(1.25, 1.02))\n",
    "plt.xlabel('comp-1')\n",
    "plt.ylabel('comp-2')\n",
    "plt.tight_layout()\n",
    "plt.savefig('./imagens/T{}{}_PCA_target_feature.jpg'.format(src, tgt),\n",
    "           dpi = 600)"
   ]
  },
  {
   "cell_type": "code",
   "execution_count": null,
   "id": "c0657c96",
   "metadata": {},
   "outputs": [],
   "source": [
    "plt.figure(figsize=(8, 4))\n",
    "plt.subplot(1,2,1)\n",
    "ax = sns.scatterplot(data=Xfactor_train_global,\n",
    "                x = 0, y = 1, hue = 'Condition', \n",
    "                palette = \"tab10\")\n",
    "ax.legend(loc = 'upper right',\n",
    "         bbox_to_anchor=(1.4, 1.02))\n",
    "plt.xlabel('comp-1')\n",
    "plt.ylabel('comp-2')\n",
    "plt.tight_layout()\n",
    "plt.savefig('./imagens/T{}{}_PCA_conditions_distribution_feature.jpg'.format(src, tgt),\n",
    "           dpi = 600)"
   ]
  },
  {
   "cell_type": "code",
   "execution_count": null,
   "id": "42cb3187",
   "metadata": {},
   "outputs": [],
   "source": [
    "fig = px.scatter_3d(Xfactor_train_global, x=0, y=1, z=2,\n",
    "              color='Condition')\n",
    "fig.show()"
   ]
  },
  {
   "cell_type": "markdown",
   "id": "a9aa7699",
   "metadata": {},
   "source": [
    "# TSNE"
   ]
  },
  {
   "cell_type": "code",
   "execution_count": null,
   "id": "c9860d6b",
   "metadata": {},
   "outputs": [],
   "source": [
    "aux = np.append(np.array(feture_pred),np.array(feture_pred_tgt),axis=0)\n",
    "aux.shape"
   ]
  },
  {
   "cell_type": "code",
   "execution_count": null,
   "id": "fb9fbbf1",
   "metadata": {},
   "outputs": [],
   "source": [
    "tsne = TSNE(n_components=2, verbose=1, random_state=123)\n",
    "z = tsne.fit_transform(aux)\n",
    "label_src"
   ]
  },
  {
   "cell_type": "code",
   "execution_count": null,
   "id": "fab548a2",
   "metadata": {},
   "outputs": [],
   "source": [
    "yaux = np.append(label_src,label_tgt)"
   ]
  },
  {
   "cell_type": "code",
   "execution_count": null,
   "id": "8fddc5b8",
   "metadata": {},
   "outputs": [],
   "source": [
    "df = pd.DataFrame()\n",
    "df[\"y\"] = yaux\n",
    "df[\"y2\"] = 'Source'\n",
    "df.loc[2000:, 'y2'] = 'Target'\n",
    "df[\"comp-1\"] = z[:,0]\n",
    "df[\"comp-2\"] = z[:,1]"
   ]
  },
  {
   "cell_type": "code",
   "execution_count": null,
   "id": "8de634b0",
   "metadata": {},
   "outputs": [],
   "source": [
    "plt.figure(figsize=(8, 4))\n",
    "plt.subplot(1,2,1)\n",
    "ax = sns.scatterplot(x=\"comp-1\", y=\"comp-2\", hue=df.y.tolist(),\n",
    "                palette=sns.color_palette(\"hls\", 10),\n",
    "                data=df)\n",
    "ax.legend(loc = 'upper right',\n",
    "         bbox_to_anchor=(1.25, 1.02))\n",
    "plt.tight_layout()\n",
    "plt.savefig('./imagens/T{}{}_tSNE_distribution_classes_feature.jpg'.format(src, tgt),\n",
    "           dpi = 600)"
   ]
  },
  {
   "cell_type": "code",
   "execution_count": null,
   "id": "5546df78",
   "metadata": {},
   "outputs": [],
   "source": [
    "plt.figure(figsize=(8, 4))\n",
    "plt.subplot(1,2,1)\n",
    "ax = sns.scatterplot(x=\"comp-1\", y=\"comp-2\", hue=df.y2.tolist(),\n",
    "                palette=sns.color_palette(\"hls\", 2),\n",
    "                data=df)\n",
    "ax.legend(loc = 'upper right',\n",
    "         bbox_to_anchor=(1.4, 1.02))\n",
    "plt.tight_layout()\n",
    "plt.savefig('./imagens/T{}{}_tSNE_distribution_conditions_feature.jpg'.format(src, tgt),\n",
    "           dpi = 600)"
   ]
  },
  {
   "cell_type": "markdown",
   "id": "4787ff70",
   "metadata": {},
   "source": [
    "# Confusion Matrix, Precision and Recall"
   ]
  },
  {
   "cell_type": "code",
   "execution_count": null,
   "id": "96a1cbb4",
   "metadata": {},
   "outputs": [],
   "source": [
    "#https://github.com/kashyaprakshith/Domain_Adaptation_Bosch_Rexroth/blob/main/CWRU_Domain_Adaptation.ipynb"
   ]
  },
  {
   "cell_type": "code",
   "execution_count": null,
   "id": "f569478a",
   "metadata": {},
   "outputs": [],
   "source": [
    "target_domain=target_data_a.float()\n",
    "target_labels=target_labels_a.long()\n",
    "target_domain=target_data_b.float()\n",
    "target_labels=target_labels_b.long()\n",
    "target_domain=target_data_c.float()\n",
    "target_labels=target_labels_c.long()\n",
    "# target_domain=source_data.float()\n",
    "# target_labels=source_labels_0.long()\n",
    "\n",
    "eval_tgt(src_encoder, src_classifier)\n",
    "x,y=eval_tgt(tgt_encoder, src_classifier)\n",
    "\n",
    "from sklearn.metrics import confusion_matrix\n",
    "import pandas as pd\n",
    "\n",
    "pred = torch.LongTensor(2816, 5).cuda()\n",
    "torch.cat(x, out=pred)\n",
    "\n",
    "actual = torch.LongTensor(2816, 5).cuda()\n",
    "torch.cat(y, out=actual)\n",
    "\n",
    "pred=pred.cpu()\n",
    "actual=actual.cpu()\n",
    "con= confusion_matrix(actual.numpy(),pred.numpy(),labels=[0,1,2,3,4,5,6,7,8,9])\n",
    "recall = np.diag(con) / np.sum(con, axis = 1)\n",
    "precision = np.diag(con) / np.sum(con, axis = 0)\n",
    "avg_recall=np.mean(recall)*100\n",
    "avg_precision=np.mean(precision)*100\n",
    "f_measure= 2*(avg_recall*avg_precision)/(avg_precision+avg_recall)\n",
    "con = con.astype('float') / con.sum(axis=1)[:, np.newaxis]\n",
    "conf = pd.DataFrame(data=con)\n",
    "conf.columns.name = 'Predicted label'\n",
    "conf.index.name = 'Actual label'\n",
    "print('precision:', avg_precision, 'recall:' , avg_recall, 'f-measure',f_measure)\n",
    "conf"
   ]
  },
  {
   "cell_type": "code",
   "execution_count": null,
   "id": "a2a90e70",
   "metadata": {},
   "outputs": [],
   "source": [
    "\n",
    "con= confusion_matrix(actual.numpy(),pred.numpy(),labels=[0,1,2,3,4,5,6,7,8,9])\n",
    "recall = np.diag(con) / np.sum(con, axis = 1)\n",
    "precision = np.diag(con) / np.sum(con, axis = 0)\n",
    "avg_recall=np.mean(recall)*100\n",
    "avg_precision=np.mean(precision)*100\n",
    "f_measure= 2*(avg_recall*avg_precision)/(avg_precision+avg_recall)\n",
    "con = con.astype('float') / con.sum(axis=1)[:, np.newaxis]\n",
    "conf = pd.DataFrame(data=con)\n",
    "conf.columns.name = 'Predicted label'\n",
    "conf.index.name = 'Actual label'\n",
    "print('precision:', avg_precision, 'recall:' , avg_recall, 'f-measure',f_measure)\n",
    "conf"
   ]
  },
  {
   "cell_type": "code",
   "execution_count": null,
   "id": "6ef2daca",
   "metadata": {},
   "outputs": [],
   "source": [
    "from sklearn.metrics import confusion_matrix, ConfusionMatrixDisplay"
   ]
  },
  {
   "cell_type": "code",
   "execution_count": null,
   "id": "f902bbd4",
   "metadata": {},
   "outputs": [],
   "source": [
    "pred = clf_branch.predict(data_src_fft)\n",
    "pred = [np.argmax(x) for x in pred]\n",
    "\n",
    "cm = confusion_matrix(label_tgt, pred)\n",
    "disp = ConfusionMatrixDisplay(confusion_matrix=cm,\n",
    "                             display_labels=np.unique(label_tgt))\n",
    "disp.plot()\n",
    "plt.show()"
   ]
  },
  {
   "cell_type": "code",
   "execution_count": null,
   "id": "b86ca01c",
   "metadata": {},
   "outputs": [],
   "source": [
    "pred = clf_branch.predict(data_src_fft)\n",
    "#pred = [np.argmax(x) for x in pred]\n",
    "pred"
   ]
  },
  {
   "cell_type": "code",
   "execution_count": null,
   "id": "58b3319f",
   "metadata": {},
   "outputs": [],
   "source": [
    "pred = clf_branch.predict(data_src_fft)\n",
    "pred = [np.argmax(x) for x in pred]\n",
    "\n",
    "cm = confusion_matrix(label_src, pred)\n",
    "disp = ConfusionMatrixDisplay(confusion_matrix=cm,\n",
    "                             display_labels=np.unique(label_tgt))\n",
    "disp.plot()\n",
    "plt.show()"
   ]
  },
  {
   "cell_type": "markdown",
   "id": "3f746ab0",
   "metadata": {},
   "source": [
    "# End"
   ]
  }
 ],
 "metadata": {
  "kernelspec": {
   "display_name": "Python 3 (ipykernel)",
   "language": "python",
   "name": "python3"
  },
  "language_info": {
   "codemirror_mode": {
    "name": "ipython",
    "version": 3
   },
   "file_extension": ".py",
   "mimetype": "text/x-python",
   "name": "python",
   "nbconvert_exporter": "python",
   "pygments_lexer": "ipython3",
   "version": "3.9.13"
  }
 },
 "nbformat": 4,
 "nbformat_minor": 5
}
